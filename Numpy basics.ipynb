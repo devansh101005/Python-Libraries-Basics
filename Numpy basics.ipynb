{
 "cells": [
  {
   "cell_type": "markdown",
   "id": "da29abd2-526a-4425-8592-2b671103ea05",
   "metadata": {},
   "source": [
    "Understanding Numpy"
   ]
  },
  {
   "cell_type": "code",
   "execution_count": 10,
   "id": "63b05c60-69e1-4c37-ab0e-c5afb3d93361",
   "metadata": {},
   "outputs": [
    {
     "data": {
      "text/plain": [
       "1"
      ]
     },
     "execution_count": 10,
     "metadata": {},
     "output_type": "execute_result"
    }
   ],
   "source": [
    "import numpy as np\n",
    "a=np.array([1,2,3])\n",
    "type(a) #tells that its an ndarray\n",
    "a.dtype #In order to know the associated dtype of the elements of ndarray\n",
    "a.ndim #number of dimensions of the ndarray\n"
   ]
  },
  {
   "cell_type": "code",
   "execution_count": 14,
   "id": "7a0abb3c-8cbb-4d2f-99a6-265d0a7b9b5e",
   "metadata": {},
   "outputs": [
    {
     "data": {
      "text/plain": [
       "(2, 2)"
      ]
     },
     "execution_count": 14,
     "metadata": {},
     "output_type": "execute_result"
    }
   ],
   "source": [
    "b=np.array([[1.3,2.4],[0.3,4.1]])\n",
    "b.dtype\n",
    "b.ndim\n",
    "b.size #(size in bytes of each element of a Numpy array\n",
    "b.shape #(total number of elements present in Numpy array or shape of numpy array\n"
   ]
  },
  {
   "cell_type": "markdown",
   "id": "69acb3ad-6515-4344-a23d-b9a3df6088c5",
   "metadata": {},
   "source": [
    "•numpy.array() – Creates array from given values.\n",
    "•numpy.zeros() – Creates array of zeros.\n",
    "•numpy.ones() – Creates array of ones.\n",
    "•numpy.empty() – Creates an empty array"
   ]
  },
  {
   "cell_type": "code",
   "execution_count": 15,
   "id": "12bb8078-cd94-402e-a851-a1439be5919a",
   "metadata": {},
   "outputs": [
    {
     "data": {
      "text/plain": [
       "array([[[7.94022478e-312, 3.16202013e-322],\n",
       "        [0.00000000e+000, 0.00000000e+000],\n",
       "        [8.88237134e+247, 2.21540346e+160]],\n",
       "\n",
       "       [[7.93595113e-067, 4.15846283e-061],\n",
       "        [1.46442451e-075, 1.46268767e+185],\n",
       "        [5.93112154e-062, 1.55978865e+161]]])"
      ]
     },
     "execution_count": 15,
     "metadata": {},
     "output_type": "execute_result"
    }
   ],
   "source": [
    "np.empty((2,3,2)) \n",
    "#np.empty(shape):creates an uninitialized array of the given shape.\n",
    "# 2 blocks (like depth)\n",
    "# Each block has 3 rows\n",
    "# Each row has 2 columns\n",
    "# The values will not be zeros.\n",
    "# They are just whatever is already in memory (random garbage numbers).\n",
    "# That’s why you’ll see unpredictable small floats, something like:"
   ]
  },
  {
   "cell_type": "code",
   "execution_count": 17,
   "id": "82204433-15a9-4c9a-a546-cce6e0cccc25",
   "metadata": {},
   "outputs": [
    {
     "data": {
      "text/plain": [
       "array([ 0,  1,  2,  3,  4,  5,  6,  7,  8,  9, 10, 11, 12, 13, 14])"
      ]
     },
     "execution_count": 17,
     "metadata": {},
     "output_type": "execute_result"
    }
   ],
   "source": [
    "np.arange(15) # arange is an array -valued version of the built in Python range functions"
   ]
  },
  {
   "cell_type": "code",
   "execution_count": null,
   "id": "f1fc8978-4f03-41bf-a8ac-0df5b551d8b3",
   "metadata": {},
   "outputs": [],
   "source": []
  }
 ],
 "metadata": {
  "kernelspec": {
   "display_name": "Python [conda env:base] *",
   "language": "python",
   "name": "conda-base-py"
  },
  "language_info": {
   "codemirror_mode": {
    "name": "ipython",
    "version": 3
   },
   "file_extension": ".py",
   "mimetype": "text/x-python",
   "name": "python",
   "nbconvert_exporter": "python",
   "pygments_lexer": "ipython3",
   "version": "3.13.5"
  }
 },
 "nbformat": 4,
 "nbformat_minor": 5
}
